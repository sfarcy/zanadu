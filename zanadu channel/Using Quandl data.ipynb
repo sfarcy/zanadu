{
 "metadata": {
  "name": "Using Quandl data",
  "zanadu": {
   "category": "2",
   "clearance": "Submitted",
   "group_name": "Zeliade",
   "notebook_id": "2308B4B8-02C7-4FA1-B074-5DCD79C9FA76",
   "status": "Approved"
  }
 },
 "nbformat": 3,
 "nbformat_minor": 0,
 "worksheets": [
  {
   "cells": [
    {
     "cell_type": "heading",
     "level": 1,
     "metadata": {
      "zanadu": {}
     },
     "source": "Using QUANDL data"
    },
    {
     "cell_type": "markdown",
     "metadata": {
      "zanadu": {}
     },
     "source": "[Quandl](http://www.quandl.com/) aggregates PUBLICLY AVAILABLE data on the www, and proposes several APIs to fetch the data. In particular, [Quandl Python API](https://github.com/quandl/Python) returns [Pandas](http://pandas.pydata.org/) dataframes."
    },
    {
     "cell_type": "markdown",
     "metadata": {
      "zanadu": {}
     },
     "source": "Here are the examples from the Quandl Python API documentation:"
    },
    {
     "cell_type": "heading",
     "level": 2,
     "metadata": {
      "zanadu": {}
     },
     "source": "Usage"
    },
    {
     "cell_type": "code",
     "collapsed": false,
     "input": "import Quandl\n\ndata = Quandl.get('PRAGUESE/PX', authtoken='xxxxxx', trim_start='2001-01-01',\n                  trim_end='2010-01-01', collapse='annual',\n                  transformation='rdiff', rows=4, returns='numpy')\ndata",
     "language": "python",
     "metadata": {
      "zanadu": {}
     },
     "outputs": [
      {
       "output_type": "stream",
       "stream": "stdout",
       "text": "Token xxxxxx activated and saved for later use.\n"
      },
      {
       "metadata": {},
       "output_type": "pyout",
       "prompt_number": 1,
       "text": "array([('2001-12-31', -0.17533960292581, -0.54166666666667),\n       ('2002-12-31', 0.16751140395337, 4.0),\n       ('2003-12-31', 0.43064901237248, -0.8),\n       ('2004-12-31', 0.56577150659991, -0.66666666666667)], \n      dtype=[('Date', 'S10'), ('Index', '<f8'), ('_Change', '<f8')])"
      }
     ],
     "prompt_number": 1
    },
    {
     "cell_type": "heading",
     "level": 2,
     "metadata": {
      "zanadu": {}
     },
     "source": "Search Example"
    },
    {
     "cell_type": "code",
     "collapsed": false,
     "input": "datasets = Quandl.search('OIL')\nfor item in datasets[0]:\n    print item",
     "language": "python",
     "metadata": {
      "zanadu": {}
     },
     "outputs": [
      {
       "output_type": "stream",
       "stream": "stdout",
       "text": "Using cached token xxxxxx for authentication.\nName                       :        Total Oil Supply: Eritrea                         "
      },
      {
       "output_type": "stream",
       "stream": "stdout",
       "text": "\nQuandl Code                :        DOE/EIA_TOTALOILSUPPLY_A_ERITREA152               \nDescription                :        Units=Thousand Barrels Per Day. The U.S. Energy Information Administration (EIA) collects, analyzes, and disseminates independent and impartial energy information to promote sound policymaking, efficient markets, and public understanding of energy and its interaction with the economy and the environment. EIA provides a wide range of information and data products covering energy production, stocks, demand, imports, exports, and prices; and prepares analyses and special reports on topics of current interest.\nFrequency                  :        annual                                            \nColumn Names               :        [u'Year', u'Thousand Barrels Per Day']            \n\n\n\nName                       :        Total Oil Supply: Estonia                         \nQuandl Code                :        DOE/EIA_TOTALOILSUPPLY_A_ESTONIA106               \nDescription                :        Units=Thousand Barrels Per Day. The U.S. Energy Information Administration (EIA) collects, analyzes, and disseminates independent and impartial energy information to promote sound policymaking, efficient markets, and public understanding of energy and its interaction with the economy and the environment. EIA provides a wide range of information and data products covering energy production, stocks, demand, imports, exports, and prices; and prepares analyses and special reports on topics of current interest.\nFrequency                  :        annual                                            \nColumn Names               :        [u'Year', u'Thousand Barrels Per Day']            \n\n\n\nName                       :        Total Oil Supply: Finland                         \nQuandl Code                :        DOE/EIA_TOTALOILSUPPLY_A_FINLAND68                \nDescription                :        Units=Thousand Barrels Per Day. The U.S. Energy Information Administration (EIA) collects, analyzes, and disseminates independent and impartial energy information to promote sound policymaking, efficient markets, and public understanding of energy and its interaction with the economy and the environment. EIA provides a wide range of information and data products covering energy production, stocks, demand, imports, exports, and prices; and prepares analyses and special reports on topics of current interest.\nFrequency                  :        annual                                            \nColumn Names               :        [u'Year', u'Thousand Barrels Per Day']            \n\n\n\nName                       :        Total Oil Supply: Gabon                           \nQuandl Code                :        DOE/EIA_TOTALOILSUPPLY_A_GABON154                 \nDescription                :        Units=Thousand Barrels Per Day. The U.S. Energy Information Administration (EIA) collects, analyzes, and disseminates independent and impartial energy information to promote sound policymaking, efficient markets, and public understanding of energy and its interaction with the economy and the environment. EIA provides a wide range of information and data products covering energy production, stocks, demand, imports, exports, and prices; and prepares analyses and special reports on topics of current interest.\nFrequency                  :        annual                                            \nColumn Names               :        [u'Year', u'Thousand Barrels Per Day']            \n\n\n\nfreq\ncode\ncolname\nname\ndesc\n"
      }
     ],
     "prompt_number": 2
    },
    {
     "cell_type": "heading",
     "level": 2,
     "metadata": {
      "zanadu": {}
     },
     "source": "Get Example"
    },
    {
     "cell_type": "code",
     "collapsed": false,
     "input": "data = Quandl.get('GOOG/NYSE_IBM', collapse='weekly')\ndata.head()",
     "language": "python",
     "metadata": {
      "zanadu": {}
     },
     "outputs": [
      {
       "output_type": "stream",
       "stream": "stdout",
       "text": "Using cached token xxxxxx for authentication.\nReturning Dataframe for "
      },
      {
       "output_type": "stream",
       "stream": "stdout",
       "text": " GOOG/NYSE_IBM\n"
      },
      {
       "html": "<div style=\"max-height:1000px;max-width:1500px;overflow:auto;\">\n<table border=\"1\" class=\"dataframe\">\n  <thead>\n    <tr style=\"text-align: right;\">\n      <th></th>\n      <th>Open</th>\n      <th>High</th>\n      <th>Low</th>\n      <th>Close</th>\n      <th>Volume</th>\n    </tr>\n    <tr>\n      <th>Date</th>\n      <th></th>\n      <th></th>\n      <th></th>\n      <th></th>\n      <th></th>\n    </tr>\n  </thead>\n  <tbody>\n    <tr>\n      <th>1981-03-15</th>\n      <td> 0</td>\n      <td>NaN</td>\n      <td> 15.81</td>\n      <td> 15.81</td>\n      <td>NaN</td>\n    </tr>\n    <tr>\n      <th>1981-03-22</th>\n      <td> 0</td>\n      <td>NaN</td>\n      <td> 15.69</td>\n      <td> 15.78</td>\n      <td>NaN</td>\n    </tr>\n    <tr>\n      <th>1981-03-29</th>\n      <td> 0</td>\n      <td>NaN</td>\n      <td> 15.41</td>\n      <td> 15.44</td>\n      <td>NaN</td>\n    </tr>\n    <tr>\n      <th>1981-04-05</th>\n      <td> 0</td>\n      <td>NaN</td>\n      <td> 15.19</td>\n      <td> 15.28</td>\n      <td>NaN</td>\n    </tr>\n    <tr>\n      <th>1981-04-12</th>\n      <td> 0</td>\n      <td>NaN</td>\n      <td> 15.12</td>\n      <td> 15.19</td>\n      <td>NaN</td>\n    </tr>\n  </tbody>\n</table>\n</div>",
       "metadata": {},
       "output_type": "pyout",
       "prompt_number": 3,
       "text": "            Open  High    Low  Close  Volume\nDate                                        \n1981-03-15     0   NaN  15.81  15.81     NaN\n1981-03-22     0   NaN  15.69  15.78     NaN\n1981-03-29     0   NaN  15.41  15.44     NaN\n1981-04-05     0   NaN  15.19  15.28     NaN\n1981-04-12     0   NaN  15.12  15.19     NaN"
      }
     ],
     "prompt_number": 3
    },
    {
     "cell_type": "heading",
     "level": 3,
     "metadata": {
      "zanadu": {}
     },
     "source": "Multisets"
    },
    {
     "cell_type": "code",
     "collapsed": false,
     "input": "data= Quandl.get(['GOOG/NASDAQ_AAPL.4','GOOG/NASDAQ_MSFT.4'])\n\ndata",
     "language": "python",
     "metadata": {
      "zanadu": {}
     },
     "outputs": [
      {
       "output_type": "stream",
       "stream": "stdout",
       "text": "Using cached token xxxxxx for authentication.\nReturning Dataframe for "
      },
      {
       "output_type": "stream",
       "stream": "stdout",
       "text": " [u'GOOG.NASDAQ_AAPL.4', u'GOOG.NASDAQ_MSFT.4']\n"
      },
      {
       "html": "<pre>\n&lt;class 'pandas.core.frame.DataFrame'&gt;\nDatetimeIndex: 8319 entries, 1981-03-11 00:00:00 to 2014-02-10 00:00:00\nData columns (total 2 columns):\nGOOG.NASDAQ_AAPL - Close    8319  non-null values\nGOOG.NASDAQ_MSFT - Close    7052  non-null values\ndtypes: float64(2)\n</pre>",
       "metadata": {},
       "output_type": "pyout",
       "prompt_number": 4,
       "text": "<class 'pandas.core.frame.DataFrame'>\nDatetimeIndex: 8319 entries, 1981-03-11 00:00:00 to 2014-02-10 00:00:00\nData columns (total 2 columns):\nGOOG.NASDAQ_AAPL - Close    8319  non-null values\nGOOG.NASDAQ_MSFT - Close    7052  non-null values\ndtypes: float64(2)"
      }
     ],
     "prompt_number": 4
    },
    {
     "cell_type": "code",
     "collapsed": false,
     "input": "",
     "language": "python",
     "metadata": {
      "zanadu": {}
     },
     "outputs": [],
     "prompt_number": 4
    }
   ],
   "metadata": {}
  }
 ]
}